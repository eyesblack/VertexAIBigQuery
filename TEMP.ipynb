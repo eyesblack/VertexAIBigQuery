{
 "cells": [
  {
   "cell_type": "markdown",
   "metadata": {
    "id": "xPF_CfMzYgOo"
   },
   "source": [
    "Este conjunto de datos incluye registros de viaje de todos los viajes realizados en taxis amarillos en la ciudad de Nueva York desde 2009. Los registros incluyen campos que capturan fechas/horas de recogida y entrega, lugares de recogida y entrega, distancias de viaje, tarifas detalladas, tipos de tarifas, tipos de pago y recuentos de pasajeros informados por el conductor. Los datos utilizados en los conjuntos de datos adjuntos fueron recopilados y proporcionados a la Comisión de Taxis y Limusinas de la Ciudad de Nueva York (TLC) por proveedores de tecnología autorizados por el Programa de Mejora de Pasajeros de Taxis (TPEP). Los datos del viaje no fueron creados por la TLC, y la TLC no se responsabiliza de la precisión de estos datos."
   ]
  },
  {
   "cell_type": "markdown",
   "metadata": {
    "id": "_tXPSoyrY5Uc"
   },
   "source": [
    "`vendor_id`\tSTRING \tUna designación para el proveedor de tecnología que proporcionó el registro. CMT=Tecnologías móviles creativas VTS= VeriFone, Inc. DDS=Sistemas de envío digital\n",
    "\n",
    "`pickup_datetime`\tTIMESTAMP  fecha y la hora en que se activó el medidor.\n",
    "\n",
    "`dropoff_datetime`\tTIMESTAMP\tLa fecha y hora en que se desconectó el medidor.\n",
    "\n",
    "`pickup_longitude`\tFLOAT Longitud donde se conectp el medidor.\t\n",
    "\n",
    "`pickup_latitude`\tFLOAT\tLatitud en la que se conectó el contador.\t\n",
    "\n",
    "`dropoff_longitude`\tFLOAT\tNULLABLE Longitud en la que se desconectó el contador.\n",
    "\n",
    "`dropoff_latitude`\tFLOAT\tLatitud en la que se desconectó el contador.\n",
    "\n",
    "`rate_code`\tSTRING  El último código de tarifa vigente al final del viaje. 1 = Tarifa estándar 2 = JFK 3 = Newark 4 = Nassau o Westchester 5 = Tarifa negociada 6 = Viaje en grupo\n",
    "\n",
    "\n",
    "`passenger_count`\tINTEGER\tEl número de pasajeros en el vehículo. Este es un valor ingresado por el controlador.\n",
    "\n",
    "`trip_distance`\tFLOAT\tLa distancia del viaje transcurrido en millas reportada por el taxímetro.\n",
    "\n",
    "`payment_type`\tSTRING\tUn código numérico que significa cómo el pasajero pagó por el viaje. CRD= Tarjeta de crédito CSH= Efectivo NOC= Sin cargo DIS= Disputa UNK= Desconocido\t\t\t\n",
    "\n",
    "\n",
    "`fare_amount`\tFLOAT\tLa tarifa de tiempo y distancia calculada por el taxímetro.\n",
    "\n",
    "`extra`\tFLOAT\tVarios extras y recargos. Actualmente, esto solo incluye los cargos de $0.50 y $1 por la hora pico y por la noche.\n",
    "\n",
    "`mta_tax`\tFLOAT\tImpuesto MTA de $0.50 que se activa automáticamente en función de la tarifa medida en uso.\n",
    "\n",
    "`imp_surcharge`\tFLOAT\tRecargo por mejora de $ 0.30 evaluado en viajes en el lanzamiento de bandera. El recargo por mejora comenzó a cobrarse en 2015.\n",
    "\n",
    "`tip_amount`\tFLOAT\tImporte de la propina: este campo se completa automáticamente para las propinas de tarjetas de crédito. Las propinas en efectivo no están incluidas.\n",
    "\n",
    "`tolls_amount`\tFLOAT\tImporte total de todos los peajes pagados en el viaje.\n",
    "\n",
    "`total_amount`\tFLOAT\tEl monto total cobrado a los pasajeros. No incluye propinas en efectivo.\n",
    "\n",
    "`store_and_fwd_flag`\tSTRING\tEsta bandera indica si el registro de viaje se mantuvo en la memoria del vehículo antes de enviarlo al proveedor, también conocido como \"almacenar y reenviar\", porque el vehículo no tenía conexión con el servidor. Y= viaje de almacenamiento y reenvío N= no es un viaje de almacenamiento y reenvío.\n",
    "\n"
   ]
  },
  {
   "cell_type": "markdown",
   "metadata": {
    "id": "mlj6VMt2ctFH"
   },
   "source": [
    "#Usadas"
   ]
  },
  {
   "cell_type": "markdown",
   "metadata": {
    "id": "nNoaDhLgceFc"
   },
   "source": [
    "`tolls_amount`\tFLOAT\tImporte total de todos los peajes pagados en el viaje.\n",
    "\n",
    "`fare_amount`\tFLOAT\tLa tarifa de tiempo y distancia calculada por el taxímetro.\n",
    "\n",
    "`passenger_count`\tINTEGER\tEl número de pasajeros en el vehículo. Este es un valor ingresado por el controlador.\n",
    "\n",
    "`pickup_datetime`\tTIMESTAMP  fecha y la hora en que se activó el medidor.\n",
    "\n",
    "`pickup_longitude`\tFLOAT Longitud donde se conectp el medidor.\t\n",
    "\n",
    "`pickup_latitude`\tFLOAT\tLatitud en la que se conectó el contador.\t\n",
    "\n",
    "`dropoff_longitude`\tFLOAT\tNULLABLE Longitud en la que se desconectó el contador.\n",
    "\n",
    "`dropoff_latitude`\tFLOAT\tLatitud en la que se desconectó el contador."
   ]
  },
  {
   "cell_type": "code",
   "execution_count": 1,
   "metadata": {
    "id": "GTZLw3MvGdzd"
   },
   "outputs": [
    {
     "name": "stdout",
     "output_type": "stream",
     "text": [
      "Your current GCP Project Name is: qwiklabs-gcp-02-4f8e6a82c3f9\n"
     ]
    }
   ],
   "source": [
    "%%bash\n",
    "\n",
    "export PROJECT=$(gcloud config list project --format \"value(core.project)\")\n",
    "echo \"Your current GCP Project Name is: \"$PROJECT"
   ]
  },
  {
   "cell_type": "code",
   "execution_count": 1,
   "metadata": {},
   "outputs": [
    {
     "name": "stdout",
     "output_type": "stream",
     "text": [
      "Requirement already satisfied: google-cloud-bigquery in /opt/conda/lib/python3.7/site-packages (3.6.0)\n",
      "Requirement already satisfied: packaging>=20.0.0 in /opt/conda/lib/python3.7/site-packages (from google-cloud-bigquery) (23.0)\n",
      "Requirement already satisfied: requests<3.0.0dev,>=2.21.0 in /opt/conda/lib/python3.7/site-packages (from google-cloud-bigquery) (2.28.2)\n",
      "Requirement already satisfied: google-api-core[grpc]!=2.0.*,!=2.1.*,!=2.2.*,!=2.3.0,<3.0.0dev,>=1.31.5 in /opt/conda/lib/python3.7/site-packages (from google-cloud-bigquery) (2.10.1)\n",
      "Requirement already satisfied: grpcio<2.0dev,>=1.47.0 in /opt/conda/lib/python3.7/site-packages (from google-cloud-bigquery) (1.48.1)\n",
      "Requirement already satisfied: python-dateutil<3.0dev,>=2.7.2 in /opt/conda/lib/python3.7/site-packages (from google-cloud-bigquery) (2.8.2)\n",
      "Requirement already satisfied: google-cloud-core<3.0.0dev,>=1.6.0 in /opt/conda/lib/python3.7/site-packages (from google-cloud-bigquery) (2.3.2)\n",
      "Collecting protobuf!=3.20.0,!=3.20.1,!=4.21.0,!=4.21.1,!=4.21.2,!=4.21.3,!=4.21.4,!=4.21.5,<5.0.0dev,>=3.19.5\n",
      "  Downloading protobuf-4.22.1-cp37-abi3-manylinux2014_x86_64.whl (302 kB)\n",
      "\u001b[2K     \u001b[90m━━━━━━━━━━━━━━━━━━━━━━━━━━━━━━━━━━━━━━━\u001b[0m \u001b[32m302.4/302.4 kB\u001b[0m \u001b[31m7.9 MB/s\u001b[0m eta \u001b[36m0:00:00\u001b[0m00:01\u001b[0m\n",
      "\u001b[?25hRequirement already satisfied: proto-plus<2.0.0dev,>=1.15.0 in /opt/conda/lib/python3.7/site-packages (from google-cloud-bigquery) (1.22.2)\n",
      "Requirement already satisfied: google-resumable-media<3.0dev,>=0.6.0 in /opt/conda/lib/python3.7/site-packages (from google-cloud-bigquery) (2.4.1)\n",
      "Requirement already satisfied: googleapis-common-protos<2.0dev,>=1.56.2 in /opt/conda/lib/python3.7/site-packages (from google-api-core[grpc]!=2.0.*,!=2.1.*,!=2.2.*,!=2.3.0,<3.0.0dev,>=1.31.5->google-cloud-bigquery) (1.56.4)\n",
      "Requirement already satisfied: google-auth<3.0dev,>=1.25.0 in /opt/conda/lib/python3.7/site-packages (from google-api-core[grpc]!=2.0.*,!=2.1.*,!=2.2.*,!=2.3.0,<3.0.0dev,>=1.31.5->google-cloud-bigquery) (2.16.2)\n",
      "Requirement already satisfied: grpcio-status<2.0dev,>=1.33.2 in /opt/conda/lib/python3.7/site-packages (from google-api-core[grpc]!=2.0.*,!=2.1.*,!=2.2.*,!=2.3.0,<3.0.0dev,>=1.31.5->google-cloud-bigquery) (1.48.1)\n",
      "Requirement already satisfied: google-crc32c<2.0dev,>=1.0 in /opt/conda/lib/python3.7/site-packages (from google-resumable-media<3.0dev,>=0.6.0->google-cloud-bigquery) (1.5.0)\n",
      "Requirement already satisfied: six>=1.5.2 in /opt/conda/lib/python3.7/site-packages (from grpcio<2.0dev,>=1.47.0->google-cloud-bigquery) (1.16.0)\n",
      "Requirement already satisfied: urllib3<1.27,>=1.21.1 in /opt/conda/lib/python3.7/site-packages (from requests<3.0.0dev,>=2.21.0->google-cloud-bigquery) (1.26.14)\n",
      "Requirement already satisfied: charset-normalizer<4,>=2 in /opt/conda/lib/python3.7/site-packages (from requests<3.0.0dev,>=2.21.0->google-cloud-bigquery) (2.1.1)\n",
      "Requirement already satisfied: idna<4,>=2.5 in /opt/conda/lib/python3.7/site-packages (from requests<3.0.0dev,>=2.21.0->google-cloud-bigquery) (3.4)\n",
      "Requirement already satisfied: certifi>=2017.4.17 in /opt/conda/lib/python3.7/site-packages (from requests<3.0.0dev,>=2.21.0->google-cloud-bigquery) (2022.12.7)\n",
      "Requirement already satisfied: cachetools<6.0,>=2.0.0 in /opt/conda/lib/python3.7/site-packages (from google-auth<3.0dev,>=1.25.0->google-api-core[grpc]!=2.0.*,!=2.1.*,!=2.2.*,!=2.3.0,<3.0.0dev,>=1.31.5->google-cloud-bigquery) (5.3.0)\n",
      "Requirement already satisfied: rsa<5,>=3.1.4 in /opt/conda/lib/python3.7/site-packages (from google-auth<3.0dev,>=1.25.0->google-api-core[grpc]!=2.0.*,!=2.1.*,!=2.2.*,!=2.3.0,<3.0.0dev,>=1.31.5->google-cloud-bigquery) (4.9)\n",
      "Requirement already satisfied: pyasn1-modules>=0.2.1 in /opt/conda/lib/python3.7/site-packages (from google-auth<3.0dev,>=1.25.0->google-api-core[grpc]!=2.0.*,!=2.1.*,!=2.2.*,!=2.3.0,<3.0.0dev,>=1.31.5->google-cloud-bigquery) (0.2.7)\n",
      "Requirement already satisfied: pyasn1<0.5.0,>=0.4.6 in /opt/conda/lib/python3.7/site-packages (from pyasn1-modules>=0.2.1->google-auth<3.0dev,>=1.25.0->google-api-core[grpc]!=2.0.*,!=2.1.*,!=2.2.*,!=2.3.0,<3.0.0dev,>=1.31.5->google-cloud-bigquery) (0.4.8)\n",
      "Installing collected packages: protobuf\n",
      "\u001b[31mERROR: pip's dependency resolver does not currently take into account all the packages that are installed. This behaviour is the source of the following dependency conflicts.\n",
      "tfx-bsl 1.4.0 requires protobuf<4,>=3.13, but you have protobuf 4.22.1 which is incompatible.\n",
      "tensorflow 2.6.5 requires protobuf<3.20,>=3.9.2, but you have protobuf 4.22.1 which is incompatible.\n",
      "tensorflow 2.6.5 requires six~=1.15.0, but you have six 1.16.0 which is incompatible.\n",
      "tensorflow 2.6.5 requires typing-extensions<3.11,>=3.7, but you have typing-extensions 4.4.0 which is incompatible.\n",
      "tensorflow-transform 1.4.1 requires protobuf<4,>=3.13, but you have protobuf 4.22.1 which is incompatible.\n",
      "tensorflow-metadata 1.4.0 requires protobuf<4,>=3.13, but you have protobuf 4.22.1 which is incompatible.\n",
      "tensorboardx 2.6 requires protobuf<4,>=3.8.0, but you have protobuf 4.22.1 which is incompatible.\n",
      "tensorboard 2.6.0 requires google-auth<2,>=1.6.3, but you have google-auth 2.16.2 which is incompatible.\n",
      "google-cloud-vision 3.4.0 requires google-api-core[grpc]!=2.0.*,!=2.1.*,!=2.10.*,!=2.2.*,!=2.3.*,!=2.4.*,!=2.5.*,!=2.6.*,!=2.7.*,!=2.8.*,!=2.9.*,<3.0.0dev,>=1.34.0, but you have google-api-core 2.10.1 which is incompatible.\n",
      "google-cloud-videointelligence 1.16.3 requires protobuf<4.0.0dev, but you have protobuf 4.22.1 which is incompatible.\n",
      "google-cloud-spanner 3.28.0 requires google-api-core[grpc]!=2.0.*,!=2.1.*,!=2.10.*,!=2.2.*,!=2.3.*,!=2.4.*,!=2.5.*,!=2.6.*,!=2.7.*,!=2.8.*,!=2.9.*,<3.0.0dev,>=1.34.0, but you have google-api-core 2.10.1 which is incompatible.\n",
      "google-cloud-resource-manager 1.9.0 requires google-api-core[grpc]!=2.0.*,!=2.1.*,!=2.10.*,!=2.2.*,!=2.3.*,!=2.4.*,!=2.5.*,!=2.6.*,!=2.7.*,!=2.8.*,!=2.9.*,<3.0.0dev,>=1.34.0, but you have google-api-core 2.10.1 which is incompatible.\n",
      "google-cloud-pubsub 2.15.0 requires google-api-core[grpc]!=2.0.*,!=2.1.*,!=2.10.*,!=2.2.*,!=2.3.*,!=2.4.*,!=2.5.*,!=2.6.*,!=2.7.*,!=2.8.*,!=2.9.*,<3.0.0dev,>=1.34.0, but you have google-api-core 2.10.1 which is incompatible.\n",
      "google-cloud-language 1.3.2 requires protobuf<4.0.0dev, but you have protobuf 4.22.1 which is incompatible.\n",
      "google-cloud-dlp 3.12.0 requires google-api-core[grpc]!=2.0.*,!=2.1.*,!=2.10.*,!=2.2.*,!=2.3.*,!=2.4.*,!=2.5.*,!=2.6.*,!=2.7.*,!=2.8.*,!=2.9.*,<3.0.0dev,>=1.34.0, but you have google-api-core 2.10.1 which is incompatible.\n",
      "google-cloud-datastore 1.15.5 requires protobuf<4.0.0dev, but you have protobuf 4.22.1 which is incompatible.\n",
      "google-cloud-bigtable 1.7.3 requires protobuf<4.0.0dev, but you have protobuf 4.22.1 which is incompatible.\n",
      "google-cloud-artifact-registry 1.8.0 requires google-api-core[grpc]!=2.0.*,!=2.1.*,!=2.10.*,!=2.2.*,!=2.3.*,!=2.4.*,!=2.5.*,!=2.6.*,!=2.7.*,!=2.8.*,!=2.9.*,<3.0.0dev,>=1.34.0, but you have google-api-core 2.10.1 which is incompatible.\n",
      "google-cloud-aiplatform 1.22.1 requires packaging<22.0.0dev,>=14.3, but you have packaging 23.0 which is incompatible.\n",
      "apache-beam 2.45.0 requires protobuf<4,>3.12.2, but you have protobuf 4.22.1 which is incompatible.\u001b[0m\u001b[31m\n",
      "\u001b[0mSuccessfully installed protobuf-4.22.1\n"
     ]
    }
   ],
   "source": [
    "!pip install --user google-cloud-bigquery"
   ]
  },
  {
   "cell_type": "code",
   "execution_count": 2,
   "metadata": {
    "id": "5aHeGrHzGlzD"
   },
   "outputs": [
    {
     "name": "stdout",
     "output_type": "stream",
     "text": [
      "Dataset 'qwiklabs-gcp-02-e4feeeff3f6c:feat_eng' successfully created.\n"
     ]
    }
   ],
   "source": [
    "!bq --location=US mk --dataset \\\n",
    "   --description 'Taxi Fare'  \\\n",
    "   $PROJECT:feat_eng"
   ]
  },
  {
   "cell_type": "code",
   "execution_count": 3,
   "metadata": {
    "id": "7pptZGZTG6sc"
   },
   "outputs": [
    {
     "data": {
      "application/vnd.jupyter.widget-view+json": {
       "model_id": "30255bb2015f4db8b5130ab7d31ba63a",
       "version_major": 2,
       "version_minor": 0
      },
      "text/plain": [
       "Query is running:   0%|          |"
      ]
     },
     "metadata": {},
     "output_type": "display_data"
    },
    {
     "data": {
      "text/html": [
       "<div>\n",
       "<style scoped>\n",
       "    .dataframe tbody tr th:only-of-type {\n",
       "        vertical-align: middle;\n",
       "    }\n",
       "\n",
       "    .dataframe tbody tr th {\n",
       "        vertical-align: top;\n",
       "    }\n",
       "\n",
       "    .dataframe thead th {\n",
       "        text-align: right;\n",
       "    }\n",
       "</style>\n",
       "<table border=\"1\" class=\"dataframe\">\n",
       "  <thead>\n",
       "    <tr style=\"text-align: right;\">\n",
       "      <th></th>\n",
       "    </tr>\n",
       "  </thead>\n",
       "  <tbody>\n",
       "  </tbody>\n",
       "</table>\n",
       "</div>"
      ],
      "text/plain": [
       "Empty DataFrame\n",
       "Columns: []\n",
       "Index: []"
      ]
     },
     "execution_count": 3,
     "metadata": {},
     "output_type": "execute_result"
    }
   ],
   "source": [
    "%%bigquery \n",
    "\n",
    "CREATE OR REPLACE TABLE\n",
    "  feat_eng.feateng_training_data AS\n",
    "SELECT\n",
    "  (tolls_amount + fare_amount) AS fare_amount,\n",
    "  passenger_count*1.0 AS passengers,\n",
    "  pickup_datetime,\n",
    "  pickup_longitude AS pickuplon,\n",
    "  pickup_latitude AS pickuplat,\n",
    "  dropoff_longitude AS dropofflon,\n",
    "  dropoff_latitude AS dropofflat\n",
    "FROM\n",
    "  `nyc-tlc.yellow.trips`\n",
    "WHERE\n",
    "  MOD(ABS(FARM_FINGERPRINT(CAST(pickup_datetime AS STRING))), 10000) = 1\n",
    "  AND fare_amount >= 2.5\n",
    "  AND passenger_count > 0\n",
    "  AND pickup_longitude > -78\n",
    "  AND pickup_longitude < -70\n",
    "  AND dropoff_longitude > -78\n",
    "  AND dropoff_longitude < -70\n",
    "  AND pickup_latitude > 37\n",
    "  AND pickup_latitude < 45\n",
    "  AND dropoff_latitude > 37\n",
    "  AND dropoff_latitude < 45"
   ]
  },
  {
   "cell_type": "code",
   "execution_count": 4,
   "metadata": {
    "id": "JBQ4qdJvHCx6"
   },
   "outputs": [
    {
     "data": {
      "application/vnd.jupyter.widget-view+json": {
       "model_id": "276d3c201c2243e083c36bcaf095c3d3",
       "version_major": 2,
       "version_minor": 0
      },
      "text/plain": [
       "Query is running:   0%|          |"
      ]
     },
     "metadata": {},
     "output_type": "display_data"
    },
    {
     "data": {
      "text/html": [
       "<div>\n",
       "<style scoped>\n",
       "    .dataframe tbody tr th:only-of-type {\n",
       "        vertical-align: middle;\n",
       "    }\n",
       "\n",
       "    .dataframe tbody tr th {\n",
       "        vertical-align: top;\n",
       "    }\n",
       "\n",
       "    .dataframe thead th {\n",
       "        text-align: right;\n",
       "    }\n",
       "</style>\n",
       "<table border=\"1\" class=\"dataframe\">\n",
       "  <thead>\n",
       "    <tr style=\"text-align: right;\">\n",
       "      <th></th>\n",
       "    </tr>\n",
       "  </thead>\n",
       "  <tbody>\n",
       "  </tbody>\n",
       "</table>\n",
       "</div>"
      ],
      "text/plain": [
       "Empty DataFrame\n",
       "Columns: []\n",
       "Index: []"
      ]
     },
     "execution_count": 4,
     "metadata": {},
     "output_type": "execute_result"
    }
   ],
   "source": [
    "%%bigquery\n",
    "\n",
    "CREATE OR REPLACE MODEL  feat_eng.baseline_model \n",
    "\n",
    "OPTIONS (model_type='linear_reg', input_label_cols=['fare_amount']) AS\n",
    "\n",
    "SELECT\n",
    "  fare_amount,\n",
    "  passengers,\n",
    "  pickup_datetime,\n",
    "  pickuplon,\n",
    "  pickuplat,\n",
    "  dropofflon,\n",
    "  dropofflat\n",
    "FROM\n",
    "  feat_eng.feateng_training_data"
   ]
  },
  {
   "cell_type": "code",
   "execution_count": 5,
   "metadata": {
    "id": "IP0NK_QDHDSg"
   },
   "outputs": [
    {
     "data": {
      "application/vnd.jupyter.widget-view+json": {
       "model_id": "9bb2eeec541d4c58b04a0b9f3072d70a",
       "version_major": 2,
       "version_minor": 0
      },
      "text/plain": [
       "Query is running:   0%|          |"
      ]
     },
     "metadata": {},
     "output_type": "display_data"
    },
    {
     "data": {
      "application/vnd.jupyter.widget-view+json": {
       "model_id": "0526c83cc09b4a13a1c873c137d06e43",
       "version_major": 2,
       "version_minor": 0
      },
      "text/plain": [
       "Downloading:   0%|          |"
      ]
     },
     "metadata": {},
     "output_type": "display_data"
    },
    {
     "data": {
      "text/html": [
       "<div>\n",
       "<style scoped>\n",
       "    .dataframe tbody tr th:only-of-type {\n",
       "        vertical-align: middle;\n",
       "    }\n",
       "\n",
       "    .dataframe tbody tr th {\n",
       "        vertical-align: top;\n",
       "    }\n",
       "\n",
       "    .dataframe thead th {\n",
       "        text-align: right;\n",
       "    }\n",
       "</style>\n",
       "<table border=\"1\" class=\"dataframe\">\n",
       "  <thead>\n",
       "    <tr style=\"text-align: right;\">\n",
       "      <th></th>\n",
       "      <th>training_run</th>\n",
       "      <th>iteration</th>\n",
       "      <th>loss</th>\n",
       "      <th>eval_loss</th>\n",
       "      <th>learning_rate</th>\n",
       "      <th>duration_ms</th>\n",
       "      <th>rmse</th>\n",
       "    </tr>\n",
       "  </thead>\n",
       "  <tbody>\n",
       "    <tr>\n",
       "      <th>0</th>\n",
       "      <td>0</td>\n",
       "      <td>0</td>\n",
       "      <td>74.435359</td>\n",
       "      <td>68.88023</td>\n",
       "      <td>NaN</td>\n",
       "      <td>17883</td>\n",
       "      <td>8.627593</td>\n",
       "    </tr>\n",
       "  </tbody>\n",
       "</table>\n",
       "</div>"
      ],
      "text/plain": [
       "   training_run  iteration       loss  eval_loss  learning_rate  duration_ms  \\\n",
       "0             0          0  74.435359   68.88023            NaN        17883   \n",
       "\n",
       "       rmse  \n",
       "0  8.627593  "
      ]
     },
     "execution_count": 5,
     "metadata": {},
     "output_type": "execute_result"
    }
   ],
   "source": [
    "%%bigquery\n",
    "\n",
    "SELECT\n",
    "  *,\n",
    "  SQRT(loss) AS rmse\n",
    "FROM\n",
    "  ML.TRAINING_INFO(MODEL feat_eng.baseline_model)"
   ]
  },
  {
   "cell_type": "code",
   "execution_count": 6,
   "metadata": {
    "id": "qeLxeER7HDW3"
   },
   "outputs": [
    {
     "data": {
      "application/vnd.jupyter.widget-view+json": {
       "model_id": "b2f926d21c63423aadb0e54a367baad5",
       "version_major": 2,
       "version_minor": 0
      },
      "text/plain": [
       "Query is running:   0%|          |"
      ]
     },
     "metadata": {},
     "output_type": "display_data"
    },
    {
     "data": {
      "application/vnd.jupyter.widget-view+json": {
       "model_id": "a10a5259797045ff8b459a6d6dd83b02",
       "version_major": 2,
       "version_minor": 0
      },
      "text/plain": [
       "Downloading:   0%|          |"
      ]
     },
     "metadata": {},
     "output_type": "display_data"
    },
    {
     "data": {
      "text/html": [
       "<div>\n",
       "<style scoped>\n",
       "    .dataframe tbody tr th:only-of-type {\n",
       "        vertical-align: middle;\n",
       "    }\n",
       "\n",
       "    .dataframe tbody tr th {\n",
       "        vertical-align: top;\n",
       "    }\n",
       "\n",
       "    .dataframe thead th {\n",
       "        text-align: right;\n",
       "    }\n",
       "</style>\n",
       "<table border=\"1\" class=\"dataframe\">\n",
       "  <thead>\n",
       "    <tr style=\"text-align: right;\">\n",
       "      <th></th>\n",
       "      <th>mean_absolute_error</th>\n",
       "      <th>mean_squared_error</th>\n",
       "      <th>mean_squared_log_error</th>\n",
       "      <th>median_absolute_error</th>\n",
       "      <th>r2_score</th>\n",
       "      <th>explained_variance</th>\n",
       "    </tr>\n",
       "  </thead>\n",
       "  <tbody>\n",
       "    <tr>\n",
       "      <th>0</th>\n",
       "      <td>5.213497</td>\n",
       "      <td>68.88023</td>\n",
       "      <td>0.258102</td>\n",
       "      <td>3.794902</td>\n",
       "      <td>0.226067</td>\n",
       "      <td>0.226132</td>\n",
       "    </tr>\n",
       "  </tbody>\n",
       "</table>\n",
       "</div>"
      ],
      "text/plain": [
       "   mean_absolute_error  mean_squared_error  mean_squared_log_error  \\\n",
       "0             5.213497            68.88023                0.258102   \n",
       "\n",
       "   median_absolute_error  r2_score  explained_variance  \n",
       "0               3.794902  0.226067            0.226132  "
      ]
     },
     "execution_count": 6,
     "metadata": {},
     "output_type": "execute_result"
    }
   ],
   "source": [
    "%%bigquery\n",
    "\n",
    "SELECT\n",
    "  *\n",
    "FROM\n",
    "  ML.EVALUATE(MODEL feat_eng.baseline_model)"
   ]
  },
  {
   "cell_type": "code",
   "execution_count": 7,
   "metadata": {
    "id": "6iOmLkvDHMHT"
   },
   "outputs": [
    {
     "data": {
      "application/vnd.jupyter.widget-view+json": {
       "model_id": "cc1f7c5060114b60b0fca5e99c5f1162",
       "version_major": 2,
       "version_minor": 0
      },
      "text/plain": [
       "Query is running:   0%|          |"
      ]
     },
     "metadata": {},
     "output_type": "display_data"
    },
    {
     "data": {
      "application/vnd.jupyter.widget-view+json": {
       "model_id": "d2a8afb3bd874a68afebc288958e4e38",
       "version_major": 2,
       "version_minor": 0
      },
      "text/plain": [
       "Downloading:   0%|          |"
      ]
     },
     "metadata": {},
     "output_type": "display_data"
    },
    {
     "data": {
      "text/html": [
       "<div>\n",
       "<style scoped>\n",
       "    .dataframe tbody tr th:only-of-type {\n",
       "        vertical-align: middle;\n",
       "    }\n",
       "\n",
       "    .dataframe tbody tr th {\n",
       "        vertical-align: top;\n",
       "    }\n",
       "\n",
       "    .dataframe thead th {\n",
       "        text-align: right;\n",
       "    }\n",
       "</style>\n",
       "<table border=\"1\" class=\"dataframe\">\n",
       "  <thead>\n",
       "    <tr style=\"text-align: right;\">\n",
       "      <th></th>\n",
       "      <th>predicted_fare_amount</th>\n",
       "      <th>fare_amount</th>\n",
       "      <th>passengers</th>\n",
       "      <th>pickup_datetime</th>\n",
       "      <th>pickuplon</th>\n",
       "      <th>pickuplat</th>\n",
       "      <th>dropofflon</th>\n",
       "      <th>dropofflat</th>\n",
       "    </tr>\n",
       "  </thead>\n",
       "  <tbody>\n",
       "    <tr>\n",
       "      <th>0</th>\n",
       "      <td>9.799903</td>\n",
       "      <td>2.50</td>\n",
       "      <td>2.0</td>\n",
       "      <td>2012-08-09 21:22:56+00:00</td>\n",
       "      <td>-73.993520</td>\n",
       "      <td>40.746670</td>\n",
       "      <td>-73.994115</td>\n",
       "      <td>40.745960</td>\n",
       "    </tr>\n",
       "    <tr>\n",
       "      <th>1</th>\n",
       "      <td>8.459084</td>\n",
       "      <td>2.50</td>\n",
       "      <td>2.0</td>\n",
       "      <td>2012-04-15 23:57:00+00:00</td>\n",
       "      <td>-73.996228</td>\n",
       "      <td>40.743237</td>\n",
       "      <td>-73.996418</td>\n",
       "      <td>40.742972</td>\n",
       "    </tr>\n",
       "    <tr>\n",
       "      <th>2</th>\n",
       "      <td>40.020240</td>\n",
       "      <td>2.50</td>\n",
       "      <td>2.0</td>\n",
       "      <td>2011-05-14 14:49:33+00:00</td>\n",
       "      <td>-73.790031</td>\n",
       "      <td>40.645675</td>\n",
       "      <td>-73.789944</td>\n",
       "      <td>40.644809</td>\n",
       "    </tr>\n",
       "    <tr>\n",
       "      <th>3</th>\n",
       "      <td>10.539917</td>\n",
       "      <td>2.50</td>\n",
       "      <td>2.0</td>\n",
       "      <td>2009-11-08 02:46:00+00:00</td>\n",
       "      <td>-73.952472</td>\n",
       "      <td>40.776608</td>\n",
       "      <td>-73.952470</td>\n",
       "      <td>40.776598</td>\n",
       "    </tr>\n",
       "    <tr>\n",
       "      <th>4</th>\n",
       "      <td>24.570213</td>\n",
       "      <td>2.50</td>\n",
       "      <td>2.0</td>\n",
       "      <td>2009-10-06 16:18:02+00:00</td>\n",
       "      <td>-73.961119</td>\n",
       "      <td>40.600506</td>\n",
       "      <td>-73.961119</td>\n",
       "      <td>40.600506</td>\n",
       "    </tr>\n",
       "    <tr>\n",
       "      <th>...</th>\n",
       "      <td>...</td>\n",
       "      <td>...</td>\n",
       "      <td>...</td>\n",
       "      <td>...</td>\n",
       "      <td>...</td>\n",
       "      <td>...</td>\n",
       "      <td>...</td>\n",
       "      <td>...</td>\n",
       "    </tr>\n",
       "    <tr>\n",
       "      <th>106540</th>\n",
       "      <td>14.307915</td>\n",
       "      <td>38.67</td>\n",
       "      <td>1.0</td>\n",
       "      <td>2009-09-20 08:29:00+00:00</td>\n",
       "      <td>-73.964555</td>\n",
       "      <td>40.763810</td>\n",
       "      <td>-73.845527</td>\n",
       "      <td>40.790812</td>\n",
       "    </tr>\n",
       "    <tr>\n",
       "      <th>106541</th>\n",
       "      <td>11.396927</td>\n",
       "      <td>38.67</td>\n",
       "      <td>1.0</td>\n",
       "      <td>2009-09-03 12:50:59+00:00</td>\n",
       "      <td>-74.015465</td>\n",
       "      <td>40.711512</td>\n",
       "      <td>-73.885812</td>\n",
       "      <td>40.773217</td>\n",
       "    </tr>\n",
       "    <tr>\n",
       "      <th>106542</th>\n",
       "      <td>11.101820</td>\n",
       "      <td>42.67</td>\n",
       "      <td>1.0</td>\n",
       "      <td>2009-10-05 14:41:00+00:00</td>\n",
       "      <td>-74.007852</td>\n",
       "      <td>40.740917</td>\n",
       "      <td>-73.871225</td>\n",
       "      <td>40.774065</td>\n",
       "    </tr>\n",
       "    <tr>\n",
       "      <th>106543</th>\n",
       "      <td>17.005942</td>\n",
       "      <td>42.67</td>\n",
       "      <td>1.0</td>\n",
       "      <td>2010-01-27 22:22:48+00:00</td>\n",
       "      <td>-73.863349</td>\n",
       "      <td>40.772327</td>\n",
       "      <td>-74.014899</td>\n",
       "      <td>40.709536</td>\n",
       "    </tr>\n",
       "    <tr>\n",
       "      <th>106544</th>\n",
       "      <td>20.645984</td>\n",
       "      <td>46.67</td>\n",
       "      <td>1.0</td>\n",
       "      <td>2010-12-07 16:21:24+00:00</td>\n",
       "      <td>-73.993843</td>\n",
       "      <td>40.751136</td>\n",
       "      <td>-73.790273</td>\n",
       "      <td>40.643709</td>\n",
       "    </tr>\n",
       "  </tbody>\n",
       "</table>\n",
       "<p>106545 rows × 8 columns</p>\n",
       "</div>"
      ],
      "text/plain": [
       "        predicted_fare_amount  fare_amount  passengers  \\\n",
       "0                    9.799903         2.50         2.0   \n",
       "1                    8.459084         2.50         2.0   \n",
       "2                   40.020240         2.50         2.0   \n",
       "3                   10.539917         2.50         2.0   \n",
       "4                   24.570213         2.50         2.0   \n",
       "...                       ...          ...         ...   \n",
       "106540              14.307915        38.67         1.0   \n",
       "106541              11.396927        38.67         1.0   \n",
       "106542              11.101820        42.67         1.0   \n",
       "106543              17.005942        42.67         1.0   \n",
       "106544              20.645984        46.67         1.0   \n",
       "\n",
       "                 pickup_datetime  pickuplon  pickuplat  dropofflon  dropofflat  \n",
       "0      2012-08-09 21:22:56+00:00 -73.993520  40.746670  -73.994115   40.745960  \n",
       "1      2012-04-15 23:57:00+00:00 -73.996228  40.743237  -73.996418   40.742972  \n",
       "2      2011-05-14 14:49:33+00:00 -73.790031  40.645675  -73.789944   40.644809  \n",
       "3      2009-11-08 02:46:00+00:00 -73.952472  40.776608  -73.952470   40.776598  \n",
       "4      2009-10-06 16:18:02+00:00 -73.961119  40.600506  -73.961119   40.600506  \n",
       "...                          ...        ...        ...         ...         ...  \n",
       "106540 2009-09-20 08:29:00+00:00 -73.964555  40.763810  -73.845527   40.790812  \n",
       "106541 2009-09-03 12:50:59+00:00 -74.015465  40.711512  -73.885812   40.773217  \n",
       "106542 2009-10-05 14:41:00+00:00 -74.007852  40.740917  -73.871225   40.774065  \n",
       "106543 2010-01-27 22:22:48+00:00 -73.863349  40.772327  -74.014899   40.709536  \n",
       "106544 2010-12-07 16:21:24+00:00 -73.993843  40.751136  -73.790273   40.643709  \n",
       "\n",
       "[106545 rows x 8 columns]"
      ]
     },
     "execution_count": 7,
     "metadata": {},
     "output_type": "execute_result"
    }
   ],
   "source": [
    "%%bigquery\n",
    "\n",
    "SELECT * FROM ML.PREDICT(MODEL feat_eng.baseline_model, \n",
    "      ( \n",
    "           SELECT\n",
    "             fare_amount,\n",
    "             passengers,\n",
    "             pickup_datetime,\n",
    "             pickuplon,\n",
    "             pickuplat,\n",
    "             dropofflon,\n",
    "             dropofflat\n",
    "           FROM\n",
    "             feat_eng.feateng_training_data \n",
    "      ));"
   ]
  },
  {
   "cell_type": "code",
   "execution_count": 10,
   "metadata": {},
   "outputs": [],
   "source": [
    "from google.cloud import bigquery\n",
    "import pandas as pd"
   ]
  },
  {
   "cell_type": "code",
   "execution_count": 11,
   "metadata": {},
   "outputs": [],
   "source": [
    "client = bigquery.Client()\n",
    "query1 = \"\"\" SELECT\n",
    "             fare_amount,\n",
    "           FROM\n",
    "             feat_eng.feateng_training_data   \"\"\"\n",
    "res  = client.query(query1)\n",
    "res1 = res.result()\n",
    "orig = res1.to_dataframe()"
   ]
  },
  {
   "cell_type": "code",
   "execution_count": 12,
   "metadata": {},
   "outputs": [
    {
     "data": {
      "text/html": [
       "<div>\n",
       "<style scoped>\n",
       "    .dataframe tbody tr th:only-of-type {\n",
       "        vertical-align: middle;\n",
       "    }\n",
       "\n",
       "    .dataframe tbody tr th {\n",
       "        vertical-align: top;\n",
       "    }\n",
       "\n",
       "    .dataframe thead th {\n",
       "        text-align: right;\n",
       "    }\n",
       "</style>\n",
       "<table border=\"1\" class=\"dataframe\">\n",
       "  <thead>\n",
       "    <tr style=\"text-align: right;\">\n",
       "      <th></th>\n",
       "      <th>fare_amount</th>\n",
       "    </tr>\n",
       "  </thead>\n",
       "  <tbody>\n",
       "    <tr>\n",
       "      <th>0</th>\n",
       "      <td>2.5</td>\n",
       "    </tr>\n",
       "  </tbody>\n",
       "</table>\n",
       "</div>"
      ],
      "text/plain": [
       "   fare_amount\n",
       "0          2.5"
      ]
     },
     "execution_count": 12,
     "metadata": {},
     "output_type": "execute_result"
    }
   ],
   "source": [
    "orig.head(1)"
   ]
  },
  {
   "cell_type": "code",
   "execution_count": 13,
   "metadata": {
    "id": "ZcQEegmwLyF7"
   },
   "outputs": [
    {
     "name": "stdout",
     "output_type": "stream",
     "text": [
      "   predicted_fare_amount  fare_amount  passengers           pickup_datetime  \\\n",
      "0               9.799903          2.5         2.0 2012-08-09 21:22:56+00:00   \n",
      "\n",
      "   pickuplon  pickuplat  dropofflon  dropofflat  \n",
      "0  -73.99352   40.74667  -73.994115    40.74596  \n"
     ]
    }
   ],
   "source": [
    "# Crea un cliente de BigQuery\n",
    "#client = bigquery.Client()\n",
    "\n",
    "# Define tu consulta\n",
    "query = \"\"\"\n",
    "SELECT * FROM ML.PREDICT(MODEL feat_eng.baseline_model, \n",
    "      ( \n",
    "          ( SELECT\n",
    "             fare_amount,\n",
    "             passengers,\n",
    "             pickup_datetime,\n",
    "             pickuplon,\n",
    "             pickuplat,\n",
    "             dropofflon,\n",
    "             dropofflat\n",
    "           FROM\n",
    "             feat_eng.feateng_training_data )\n",
    "      ))\n",
    "\"\"\"\n",
    "# Ejecuta la consulta\n",
    "query_job = client.query(query)\n",
    "# Espera a que la consulta termine\n",
    "query_job.result()\n",
    "# Lee los resultados en un DataFrame de Pandas\n",
    "df = query_job.to_dataframe()\n",
    "# Muestra los primeros 5 registros del DataFrame\n",
    "print(df.head(1))"
   ]
  },
  {
   "cell_type": "code",
   "execution_count": 14,
   "metadata": {},
   "outputs": [],
   "source": [
    "pred = df['predicted_fare_amount'].values"
   ]
  },
  {
   "cell_type": "code",
   "execution_count": 15,
   "metadata": {},
   "outputs": [],
   "source": [
    "org = orig['fare_amount'].values"
   ]
  },
  {
   "cell_type": "code",
   "execution_count": 16,
   "metadata": {},
   "outputs": [],
   "source": [
    "import matplotlib.pyplot as plt"
   ]
  },
  {
   "cell_type": "code",
   "execution_count": 17,
   "metadata": {},
   "outputs": [
    {
     "data": {
      "image/png": "[encoded data removed]",
      "text/plain": [
       "<Figure size 640x480 with 1 Axes>"
      ]
     },
     "metadata": {},
     "output_type": "display_data"
    },
    {
     "data": {
      "image/png": "[encoded data removed]",
      "text/plain": [
       "<Figure size 640x480 with 1 Axes>"
      ]
     },
     "metadata": {},
     "output_type": "display_data"
    }
   ],
   "source": [
    "plt.scatter(orig, pred, label=\"Predicciones vs. Datos originales\")\n",
    "plt.xlabel(\"Datos originales\")\n",
    "plt.ylabel(\"Predicciones\")\n",
    "plt.legend()\n",
    "plt.show()\n",
    "\n",
    "# Crear histogramas superpuestos para mostrar la distribución de ambos conjuntos de datos\n",
    "plt.hist(orig, bins=80, alpha=0.5, label=\"Datos originales\", color='blue')\n",
    "plt.hist(pred, bins=80, alpha=0.3, label=\"Predicciones\", color='red')\n",
    "plt.xlabel(\"Valores\")\n",
    "plt.ylabel(\"Frecuencia\")\n",
    "plt.legend()\n",
    "plt.show()"
   ]
  },
  {
   "cell_type": "code",
   "execution_count": 18,
   "metadata": {},
   "outputs": [],
   "source": [
    "import numpy as np"
   ]
  },
  {
   "cell_type": "code",
   "execution_count": 19,
   "metadata": {},
   "outputs": [
    {
     "data": {
      "text/plain": [
       "array([[ 2.5       ,  9.79990292],\n",
       "       [ 2.5       ,  8.45908449],\n",
       "       [ 2.5       , 40.02024043],\n",
       "       ...,\n",
       "       [42.67      , 11.10182045],\n",
       "       [42.67      , 17.00594173],\n",
       "       [46.67      , 20.64598435]])"
      ]
     },
     "execution_count": 19,
     "metadata": {},
     "output_type": "execute_result"
    }
   ],
   "source": [
    "np.column_stack((org, pred))"
   ]
  },
  {
   "cell_type": "code",
   "execution_count": 20,
   "metadata": {},
   "outputs": [
    {
     "data": {
      "application/vnd.jupyter.widget-view+json": {
       "model_id": "e858d44dca73483abd077c45bcc18b97",
       "version_major": 2,
       "version_minor": 0
      },
      "text/plain": [
       "Query is running:   0%|          |"
      ]
     },
     "metadata": {},
     "output_type": "display_data"
    },
    {
     "data": {
      "text/html": [
       "<div>\n",
       "<style scoped>\n",
       "    .dataframe tbody tr th:only-of-type {\n",
       "        vertical-align: middle;\n",
       "    }\n",
       "\n",
       "    .dataframe tbody tr th {\n",
       "        vertical-align: top;\n",
       "    }\n",
       "\n",
       "    .dataframe thead th {\n",
       "        text-align: right;\n",
       "    }\n",
       "</style>\n",
       "<table border=\"1\" class=\"dataframe\">\n",
       "  <thead>\n",
       "    <tr style=\"text-align: right;\">\n",
       "      <th></th>\n",
       "    </tr>\n",
       "  </thead>\n",
       "  <tbody>\n",
       "  </tbody>\n",
       "</table>\n",
       "</div>"
      ],
      "text/plain": [
       "Empty DataFrame\n",
       "Columns: []\n",
       "Index: []"
      ]
     },
     "execution_count": 20,
     "metadata": {},
     "output_type": "execute_result"
    }
   ],
   "source": [
    "%%bigquery\n",
    "\n",
    "# Use the `TRANSFORM` clause\n",
    "CREATE OR REPLACE MODEL\n",
    "  feat_eng.final_model  TRANSFORM(fare_amount,\n",
    "\n",
    "    ST_Distance(ST_GeogPoint(pickuplon,\n",
    "        pickuplat),\n",
    "      ST_GeogPoint(dropofflon,\n",
    "        dropofflat)) AS euclidean,\n",
    " \n",
    "    ML.FEATURE_CROSS(STRUCT(CAST(EXTRACT(DAYOFWEEK\n",
    "          FROM\n",
    "            pickup_datetime) AS STRING) AS dayofweek,\n",
    "        CAST(EXTRACT(HOUR\n",
    "          FROM\n",
    "            pickup_datetime) AS STRING) AS hourofday)) AS day_hr,\n",
    "    CONCAT( ML.BUCKETIZE(pickuplon,\n",
    "        GENERATE_ARRAY(-78, -70, 0.01)), ML.BUCKETIZE(pickuplat,\n",
    "        GENERATE_ARRAY(37, 45, 0.01)), ML.BUCKETIZE(dropofflon,\n",
    "        GENERATE_ARRAY(-78, -70, 0.01)), ML.BUCKETIZE(dropofflat,\n",
    "        GENERATE_ARRAY(37, 45, 0.01)) ) AS pickup_and_dropoff ) OPTIONS(input_label_cols=['fare_amount'],\n",
    "    model_type='linear_reg',\n",
    "    l2_reg=0.1) AS\n",
    "SELECT\n",
    "  *\n",
    "FROM\n",
    "  feat_eng.feateng_training_data"
   ]
  },
  {
   "cell_type": "code",
   "execution_count": 21,
   "metadata": {},
   "outputs": [
    {
     "data": {
      "application/vnd.jupyter.widget-view+json": {
       "model_id": "6ae91f97948d46e2ac938b81a70f3303",
       "version_major": 2,
       "version_minor": 0
      },
      "text/plain": [
       "Query is running:   0%|          |"
      ]
     },
     "metadata": {},
     "output_type": "display_data"
    },
    {
     "data": {
      "application/vnd.jupyter.widget-view+json": {
       "model_id": "83e9d70d736641bb98e3b512fcfca08e",
       "version_major": 2,
       "version_minor": 0
      },
      "text/plain": [
       "Downloading:   0%|          |"
      ]
     },
     "metadata": {},
     "output_type": "display_data"
    },
    {
     "data": {
      "text/html": [
       "<div>\n",
       "<style scoped>\n",
       "    .dataframe tbody tr th:only-of-type {\n",
       "        vertical-align: middle;\n",
       "    }\n",
       "\n",
       "    .dataframe tbody tr th {\n",
       "        vertical-align: top;\n",
       "    }\n",
       "\n",
       "    .dataframe thead th {\n",
       "        text-align: right;\n",
       "    }\n",
       "</style>\n",
       "<table border=\"1\" class=\"dataframe\">\n",
       "  <thead>\n",
       "    <tr style=\"text-align: right;\">\n",
       "      <th></th>\n",
       "      <th>training_run</th>\n",
       "      <th>iteration</th>\n",
       "      <th>loss</th>\n",
       "      <th>eval_loss</th>\n",
       "      <th>learning_rate</th>\n",
       "      <th>duration_ms</th>\n",
       "      <th>rmse</th>\n",
       "    </tr>\n",
       "  </thead>\n",
       "  <tbody>\n",
       "    <tr>\n",
       "      <th>0</th>\n",
       "      <td>0</td>\n",
       "      <td>3</td>\n",
       "      <td>11.543481</td>\n",
       "      <td>29.058845</td>\n",
       "      <td>0.4</td>\n",
       "      <td>3811</td>\n",
       "      <td>3.397570</td>\n",
       "    </tr>\n",
       "    <tr>\n",
       "      <th>1</th>\n",
       "      <td>0</td>\n",
       "      <td>2</td>\n",
       "      <td>14.003867</td>\n",
       "      <td>31.897211</td>\n",
       "      <td>0.8</td>\n",
       "      <td>4487</td>\n",
       "      <td>3.742174</td>\n",
       "    </tr>\n",
       "    <tr>\n",
       "      <th>2</th>\n",
       "      <td>0</td>\n",
       "      <td>1</td>\n",
       "      <td>21.037874</td>\n",
       "      <td>32.961365</td>\n",
       "      <td>0.4</td>\n",
       "      <td>3779</td>\n",
       "      <td>4.586706</td>\n",
       "    </tr>\n",
       "    <tr>\n",
       "      <th>3</th>\n",
       "      <td>0</td>\n",
       "      <td>0</td>\n",
       "      <td>69.922209</td>\n",
       "      <td>76.298004</td>\n",
       "      <td>0.2</td>\n",
       "      <td>3210</td>\n",
       "      <td>8.361950</td>\n",
       "    </tr>\n",
       "  </tbody>\n",
       "</table>\n",
       "</div>"
      ],
      "text/plain": [
       "   training_run  iteration       loss  eval_loss  learning_rate  duration_ms  \\\n",
       "0             0          3  11.543481  29.058845            0.4         3811   \n",
       "1             0          2  14.003867  31.897211            0.8         4487   \n",
       "2             0          1  21.037874  32.961365            0.4         3779   \n",
       "3             0          0  69.922209  76.298004            0.2         3210   \n",
       "\n",
       "       rmse  \n",
       "0  3.397570  \n",
       "1  3.742174  \n",
       "2  4.586706  \n",
       "3  8.361950  "
      ]
     },
     "execution_count": 21,
     "metadata": {},
     "output_type": "execute_result"
    }
   ],
   "source": [
    "%%bigquery\n",
    "\n",
    "# Use `ML.TRAINING_INFO` function which allows you to see information about the training iterations of a model\n",
    "SELECT\n",
    "  *,\n",
    "  SQRT(loss) AS rmse\n",
    "FROM\n",
    "  ML.TRAINING_INFO(MODEL feat_eng.final_model)"
   ]
  },
  {
   "cell_type": "code",
   "execution_count": 22,
   "metadata": {},
   "outputs": [
    {
     "data": {
      "application/vnd.jupyter.widget-view+json": {
       "model_id": "f5ab08ee671448d4bcbfcbc85a9dc369",
       "version_major": 2,
       "version_minor": 0
      },
      "text/plain": [
       "Query is running:   0%|          |"
      ]
     },
     "metadata": {},
     "output_type": "display_data"
    },
    {
     "data": {
      "application/vnd.jupyter.widget-view+json": {
       "model_id": "878a587e52d1461cb4a3cc2f58de1149",
       "version_major": 2,
       "version_minor": 0
      },
      "text/plain": [
       "Downloading:   0%|          |"
      ]
     },
     "metadata": {},
     "output_type": "display_data"
    },
    {
     "data": {
      "text/html": [
       "<div>\n",
       "<style scoped>\n",
       "    .dataframe tbody tr th:only-of-type {\n",
       "        vertical-align: middle;\n",
       "    }\n",
       "\n",
       "    .dataframe tbody tr th {\n",
       "        vertical-align: top;\n",
       "    }\n",
       "\n",
       "    .dataframe thead th {\n",
       "        text-align: right;\n",
       "    }\n",
       "</style>\n",
       "<table border=\"1\" class=\"dataframe\">\n",
       "  <thead>\n",
       "    <tr style=\"text-align: right;\">\n",
       "      <th></th>\n",
       "      <th>mean_absolute_error</th>\n",
       "      <th>mean_squared_error</th>\n",
       "      <th>mean_squared_log_error</th>\n",
       "      <th>median_absolute_error</th>\n",
       "      <th>r2_score</th>\n",
       "      <th>explained_variance</th>\n",
       "    </tr>\n",
       "  </thead>\n",
       "  <tbody>\n",
       "    <tr>\n",
       "      <th>0</th>\n",
       "      <td>2.623061</td>\n",
       "      <td>29.058845</td>\n",
       "      <td>0.086064</td>\n",
       "      <td>1.569298</td>\n",
       "      <td>0.673497</td>\n",
       "      <td>0.67393</td>\n",
       "    </tr>\n",
       "  </tbody>\n",
       "</table>\n",
       "</div>"
      ],
      "text/plain": [
       "   mean_absolute_error  mean_squared_error  mean_squared_log_error  \\\n",
       "0             2.623061           29.058845                0.086064   \n",
       "\n",
       "   median_absolute_error  r2_score  explained_variance  \n",
       "0               1.569298  0.673497             0.67393  "
      ]
     },
     "execution_count": 22,
     "metadata": {},
     "output_type": "execute_result"
    }
   ],
   "source": [
    "%%bigquery\n",
    "\n",
    "# Use `ML.EVALUATE` function to evaluate model metrics. \n",
    "SELECT\n",
    "  *\n",
    "FROM\n",
    "  ML.EVALUATE(MODEL feat_eng.final_model)"
   ]
  },
  {
   "cell_type": "code",
   "execution_count": 23,
   "metadata": {},
   "outputs": [
    {
     "data": {
      "application/vnd.jupyter.widget-view+json": {
       "model_id": "c48f7ca882384cbfa19e80305ad2f595",
       "version_major": 2,
       "version_minor": 0
      },
      "text/plain": [
       "Query is running:   0%|          |"
      ]
     },
     "metadata": {},
     "output_type": "display_data"
    },
    {
     "data": {
      "application/vnd.jupyter.widget-view+json": {
       "model_id": "a6b2d0cffcf744278d67e3eeae16c349",
       "version_major": 2,
       "version_minor": 0
      },
      "text/plain": [
       "Downloading:   0%|          |"
      ]
     },
     "metadata": {},
     "output_type": "display_data"
    },
    {
     "data": {
      "text/html": [
       "<div>\n",
       "<style scoped>\n",
       "    .dataframe tbody tr th:only-of-type {\n",
       "        vertical-align: middle;\n",
       "    }\n",
       "\n",
       "    .dataframe tbody tr th {\n",
       "        vertical-align: top;\n",
       "    }\n",
       "\n",
       "    .dataframe thead th {\n",
       "        text-align: right;\n",
       "    }\n",
       "</style>\n",
       "<table border=\"1\" class=\"dataframe\">\n",
       "  <thead>\n",
       "    <tr style=\"text-align: right;\">\n",
       "      <th></th>\n",
       "      <th>rmse</th>\n",
       "    </tr>\n",
       "  </thead>\n",
       "  <tbody>\n",
       "    <tr>\n",
       "      <th>0</th>\n",
       "      <td>5.390626</td>\n",
       "    </tr>\n",
       "  </tbody>\n",
       "</table>\n",
       "</div>"
      ],
      "text/plain": [
       "       rmse\n",
       "0  5.390626"
      ]
     },
     "execution_count": 23,
     "metadata": {},
     "output_type": "execute_result"
    }
   ],
   "source": [
    "%%bigquery\n",
    "\n",
    "# Use `ML.EVALUATE` function to evaluate model metrics. \n",
    "SELECT\n",
    "  SQRT(mean_squared_error) AS rmse\n",
    "FROM\n",
    "  ML.EVALUATE(MODEL feat_eng.final_model)"
   ]
  },
  {
   "cell_type": "code",
   "execution_count": 25,
   "metadata": {},
   "outputs": [
    {
     "name": "stdout",
     "output_type": "stream",
     "text": [
      "   predicted_fare_amount  fare_amount  passengers           pickup_datetime  \\\n",
      "0               4.884205          2.5         2.0 2012-08-09 21:22:56+00:00   \n",
      "\n",
      "   pickuplon  pickuplat  dropofflon  dropofflat  \n",
      "0  -73.99352   40.74667  -73.994115    40.74596  \n"
     ]
    }
   ],
   "source": [
    "query = \"\"\"\n",
    "SELECT * FROM ML.PREDICT(MODEL feat_eng.final_model, \n",
    "      ( \n",
    "          ( SELECT\n",
    "             fare_amount,\n",
    "             passengers,\n",
    "             pickup_datetime,\n",
    "             pickuplon,\n",
    "             pickuplat,\n",
    "             dropofflon,\n",
    "             dropofflat\n",
    "           FROM\n",
    "             feat_eng.feateng_training_data )\n",
    "      ))\n",
    "\"\"\"\n",
    "# Ejecuta la consulta\n",
    "query_job = client.query(query)\n",
    "# Espera a que la consulta termine\n",
    "query_job.result()\n",
    "# Lee los resultados en un DataFrame de Pandas\n",
    "df = query_job.to_dataframe()\n",
    "# Muestra los primeros 5 registros del DataFrame\n",
    "print(df.head(1))"
   ]
  },
  {
   "cell_type": "code",
   "execution_count": 26,
   "metadata": {},
   "outputs": [
    {
     "data": {
      "image/png": "[encoded data removed]",
      "text/plain": [
       "<Figure size 640x480 with 1 Axes>"
      ]
     },
     "metadata": {},
     "output_type": "display_data"
    },
    {
     "data": {
      "image/png": "[encoded data removed]",
      "text/plain": [
       "<Figure size 640x480 with 1 Axes>"
      ]
     },
     "metadata": {},
     "output_type": "display_data"
    }
   ],
   "source": [
    "pred = df['predicted_fare_amount'].values\n",
    "org = orig['fare_amount'].values\n",
    "\n",
    "plt.scatter(orig, pred, label=\"Predicciones vs. Datos originales\")\n",
    "plt.xlabel(\"Datos originales\")\n",
    "plt.ylabel(\"Predicciones\")\n",
    "plt.legend()\n",
    "plt.show()\n",
    "\n",
    "# Crear histogramas superpuestos para mostrar la distribución de ambos conjuntos de datos\n",
    "plt.hist(orig, bins=80, alpha=0.5, label=\"Datos originales\", color='blue')\n",
    "plt.hist(pred, bins=80, alpha=0.3, label=\"Predicciones\", color='red')\n",
    "plt.xlabel(\"Valores\")\n",
    "plt.ylabel(\"Frecuencia\")\n",
    "plt.legend()\n",
    "plt.show()"
   ]
  }
 ],
 "metadata": {
  "colab": {
   "provenance": []
  },
  "environment": {
   "kernel": "python3",
   "name": "tf2-gpu.2-6.m104",
   "type": "gcloud",
   "uri": "gcr.io/deeplearning-platform-release/tf2-gpu.2-6:m104"
  },
  "kernelspec": {
   "display_name": "Python 3 (ipykernel)",
   "language": "python",
   "name": "python3"
  },
  "language_info": {
   "codemirror_mode": {
    "name": "ipython",
    "version": 3
   },
   "file_extension": ".py",
   "mimetype": "text/x-python",
   "name": "python",
   "nbconvert_exporter": "python",
   "pygments_lexer": "ipython3",
   "version": "3.7.12"
  }
 },
 "nbformat": 4,
 "nbformat_minor": 4
}
